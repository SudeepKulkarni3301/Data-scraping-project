{
 "cells": [
  {
   "cell_type": "markdown",
   "id": "a2257f88",
   "metadata": {},
   "source": [
    "# Problem statement"
   ]
  },
  {
   "cell_type": "markdown",
   "id": "5c001a98",
   "metadata": {},
   "source": [
    "To develop a model for predicting fraudulent transactions for a\n",
    "financial company and use insights from the model to develop an actionable plan. Data for the\n",
    "case is available in CSV format having 6362620 rows and 10 columns."
   ]
  },
  {
   "cell_type": "markdown",
   "id": "bd909967",
   "metadata": {},
   "source": [
    "# Importing the libraries"
   ]
  },
  {
   "cell_type": "code",
   "execution_count": 55,
   "id": "f40a366a",
   "metadata": {},
   "outputs": [],
   "source": [
    "import numpy as np\n",
    "import pandas as pd\n",
    "import seaborn as sns\n",
    "import matplotlib.pyplot as plt\n",
    "from sklearn.preprocessing import LabelEncoder\n",
    "from sklearn.model_selection import train_test_split\n",
    "from sklearn.metrics import accuracy_score"
   ]
  },
  {
   "cell_type": "markdown",
   "id": "b05c6548",
   "metadata": {},
   "source": [
    "# Data Dictionary\n",
    "step - maps a unit of time in the real world. In this case 1 step is 1 hour of time. Total steps 744 (30 days simulation).\n",
    "\n",
    "type - CASH-IN, CASH-OUT, DEBIT, PAYMENT and TRANSFER.\n",
    "\n",
    "amount - amount of the transaction in local currency.\n",
    "\n",
    "nameOrig - customer who started the transaction\n",
    "\n",
    "oldbalanceOrg - initial balance before the transaction\n",
    "\n",
    "newbalanceOrig - new balance after the transaction\n",
    "\n",
    "nameDest - customer who is the recipient of the transaction\n",
    "\n",
    "oldbalanceDest - initial balance recipient before the transaction. Note that there is not information for customers that start with M (Merchants).\n",
    "\n",
    "newbalanceDest - new balance recipient after the transaction. Note that there is not information for customers that start with M (Merchants).\n",
    "\n",
    "isFraud - This is the transactions made by the fraudulent agents inside the simulation. In this specific dataset the fraudulent behavior of the agents aims to profit by taking control or customers accounts and try to empty the funds by transferring to another account and then cashing out of the system.\n",
    "\n",
    "isFlaggedFraud - The business model aims to control massive transfers from one account to another and flags illegal attempts. An illegal attempt in this dataset is an attempt to transfer more than 200.000 in a single transaction."
   ]
  },
  {
   "cell_type": "markdown",
   "id": "d5e7adf2",
   "metadata": {},
   "source": [
    "# Data Pre-Processing"
   ]
  },
  {
   "cell_type": "code",
   "execution_count": 3,
   "id": "c011fc20",
   "metadata": {},
   "outputs": [
    {
     "data": {
      "text/plain": [
       "(6362620, 11)"
      ]
     },
     "execution_count": 3,
     "metadata": {},
     "output_type": "execute_result"
    }
   ],
   "source": [
    "#Reading the dataset stored in local machine \n",
    "df = pd.read_csv(\"C:\\\\Users\\\\sudee\\\\Downloads\\\\Jupyter Notebook projects\\\\fraud.csv\")\n",
    "df.shape"
   ]
  },
  {
   "cell_type": "code",
   "execution_count": 4,
   "id": "bc9b57a1",
   "metadata": {},
   "outputs": [
    {
     "data": {
      "text/html": [
       "<div>\n",
       "<style scoped>\n",
       "    .dataframe tbody tr th:only-of-type {\n",
       "        vertical-align: middle;\n",
       "    }\n",
       "\n",
       "    .dataframe tbody tr th {\n",
       "        vertical-align: top;\n",
       "    }\n",
       "\n",
       "    .dataframe thead th {\n",
       "        text-align: right;\n",
       "    }\n",
       "</style>\n",
       "<table border=\"1\" class=\"dataframe\">\n",
       "  <thead>\n",
       "    <tr style=\"text-align: right;\">\n",
       "      <th></th>\n",
       "      <th>step</th>\n",
       "      <th>type</th>\n",
       "      <th>amount</th>\n",
       "      <th>nameOrig</th>\n",
       "      <th>oldbalanceOrg</th>\n",
       "      <th>newbalanceOrig</th>\n",
       "      <th>nameDest</th>\n",
       "      <th>oldbalanceDest</th>\n",
       "      <th>newbalanceDest</th>\n",
       "      <th>isFraud</th>\n",
       "      <th>isFlaggedFraud</th>\n",
       "    </tr>\n",
       "  </thead>\n",
       "  <tbody>\n",
       "    <tr>\n",
       "      <th>0</th>\n",
       "      <td>1</td>\n",
       "      <td>PAYMENT</td>\n",
       "      <td>9839.64</td>\n",
       "      <td>C1231006815</td>\n",
       "      <td>170136.0</td>\n",
       "      <td>160296.36</td>\n",
       "      <td>M1979787155</td>\n",
       "      <td>0.00</td>\n",
       "      <td>0.00</td>\n",
       "      <td>0</td>\n",
       "      <td>0</td>\n",
       "    </tr>\n",
       "    <tr>\n",
       "      <th>1</th>\n",
       "      <td>1</td>\n",
       "      <td>PAYMENT</td>\n",
       "      <td>1864.28</td>\n",
       "      <td>C1666544295</td>\n",
       "      <td>21249.0</td>\n",
       "      <td>19384.72</td>\n",
       "      <td>M2044282225</td>\n",
       "      <td>0.00</td>\n",
       "      <td>0.00</td>\n",
       "      <td>0</td>\n",
       "      <td>0</td>\n",
       "    </tr>\n",
       "    <tr>\n",
       "      <th>2</th>\n",
       "      <td>1</td>\n",
       "      <td>TRANSFER</td>\n",
       "      <td>181.00</td>\n",
       "      <td>C1305486145</td>\n",
       "      <td>181.0</td>\n",
       "      <td>0.00</td>\n",
       "      <td>C553264065</td>\n",
       "      <td>0.00</td>\n",
       "      <td>0.00</td>\n",
       "      <td>1</td>\n",
       "      <td>0</td>\n",
       "    </tr>\n",
       "    <tr>\n",
       "      <th>3</th>\n",
       "      <td>1</td>\n",
       "      <td>CASH_OUT</td>\n",
       "      <td>181.00</td>\n",
       "      <td>C840083671</td>\n",
       "      <td>181.0</td>\n",
       "      <td>0.00</td>\n",
       "      <td>C38997010</td>\n",
       "      <td>21182.00</td>\n",
       "      <td>0.00</td>\n",
       "      <td>1</td>\n",
       "      <td>0</td>\n",
       "    </tr>\n",
       "    <tr>\n",
       "      <th>4</th>\n",
       "      <td>1</td>\n",
       "      <td>PAYMENT</td>\n",
       "      <td>11668.14</td>\n",
       "      <td>C2048537720</td>\n",
       "      <td>41554.0</td>\n",
       "      <td>29885.86</td>\n",
       "      <td>M1230701703</td>\n",
       "      <td>0.00</td>\n",
       "      <td>0.00</td>\n",
       "      <td>0</td>\n",
       "      <td>0</td>\n",
       "    </tr>\n",
       "    <tr>\n",
       "      <th>...</th>\n",
       "      <td>...</td>\n",
       "      <td>...</td>\n",
       "      <td>...</td>\n",
       "      <td>...</td>\n",
       "      <td>...</td>\n",
       "      <td>...</td>\n",
       "      <td>...</td>\n",
       "      <td>...</td>\n",
       "      <td>...</td>\n",
       "      <td>...</td>\n",
       "      <td>...</td>\n",
       "    </tr>\n",
       "    <tr>\n",
       "      <th>95</th>\n",
       "      <td>1</td>\n",
       "      <td>TRANSFER</td>\n",
       "      <td>710544.77</td>\n",
       "      <td>C835773569</td>\n",
       "      <td>0.0</td>\n",
       "      <td>0.00</td>\n",
       "      <td>C1359044626</td>\n",
       "      <td>738531.50</td>\n",
       "      <td>16518.36</td>\n",
       "      <td>0</td>\n",
       "      <td>0</td>\n",
       "    </tr>\n",
       "    <tr>\n",
       "      <th>96</th>\n",
       "      <td>1</td>\n",
       "      <td>TRANSFER</td>\n",
       "      <td>581294.26</td>\n",
       "      <td>C843299092</td>\n",
       "      <td>0.0</td>\n",
       "      <td>0.00</td>\n",
       "      <td>C1590550415</td>\n",
       "      <td>5195482.15</td>\n",
       "      <td>19169204.93</td>\n",
       "      <td>0</td>\n",
       "      <td>0</td>\n",
       "    </tr>\n",
       "    <tr>\n",
       "      <th>97</th>\n",
       "      <td>1</td>\n",
       "      <td>TRANSFER</td>\n",
       "      <td>11996.58</td>\n",
       "      <td>C605982374</td>\n",
       "      <td>0.0</td>\n",
       "      <td>0.00</td>\n",
       "      <td>C1225616405</td>\n",
       "      <td>40255.00</td>\n",
       "      <td>0.00</td>\n",
       "      <td>0</td>\n",
       "      <td>0</td>\n",
       "    </tr>\n",
       "    <tr>\n",
       "      <th>98</th>\n",
       "      <td>1</td>\n",
       "      <td>PAYMENT</td>\n",
       "      <td>2875.10</td>\n",
       "      <td>C1412322831</td>\n",
       "      <td>15443.0</td>\n",
       "      <td>12567.90</td>\n",
       "      <td>M1651262695</td>\n",
       "      <td>0.00</td>\n",
       "      <td>0.00</td>\n",
       "      <td>0</td>\n",
       "      <td>0</td>\n",
       "    </tr>\n",
       "    <tr>\n",
       "      <th>99</th>\n",
       "      <td>1</td>\n",
       "      <td>PAYMENT</td>\n",
       "      <td>8586.98</td>\n",
       "      <td>C1305004711</td>\n",
       "      <td>3763.0</td>\n",
       "      <td>0.00</td>\n",
       "      <td>M494077446</td>\n",
       "      <td>0.00</td>\n",
       "      <td>0.00</td>\n",
       "      <td>0</td>\n",
       "      <td>0</td>\n",
       "    </tr>\n",
       "  </tbody>\n",
       "</table>\n",
       "<p>100 rows × 11 columns</p>\n",
       "</div>"
      ],
      "text/plain": [
       "    step      type     amount     nameOrig  oldbalanceOrg  newbalanceOrig  \\\n",
       "0      1   PAYMENT    9839.64  C1231006815       170136.0       160296.36   \n",
       "1      1   PAYMENT    1864.28  C1666544295        21249.0        19384.72   \n",
       "2      1  TRANSFER     181.00  C1305486145          181.0            0.00   \n",
       "3      1  CASH_OUT     181.00   C840083671          181.0            0.00   \n",
       "4      1   PAYMENT   11668.14  C2048537720        41554.0        29885.86   \n",
       "..   ...       ...        ...          ...            ...             ...   \n",
       "95     1  TRANSFER  710544.77   C835773569            0.0            0.00   \n",
       "96     1  TRANSFER  581294.26   C843299092            0.0            0.00   \n",
       "97     1  TRANSFER   11996.58   C605982374            0.0            0.00   \n",
       "98     1   PAYMENT    2875.10  C1412322831        15443.0        12567.90   \n",
       "99     1   PAYMENT    8586.98  C1305004711         3763.0            0.00   \n",
       "\n",
       "       nameDest  oldbalanceDest  newbalanceDest  isFraud  isFlaggedFraud  \n",
       "0   M1979787155            0.00            0.00        0               0  \n",
       "1   M2044282225            0.00            0.00        0               0  \n",
       "2    C553264065            0.00            0.00        1               0  \n",
       "3     C38997010        21182.00            0.00        1               0  \n",
       "4   M1230701703            0.00            0.00        0               0  \n",
       "..          ...             ...             ...      ...             ...  \n",
       "95  C1359044626       738531.50        16518.36        0               0  \n",
       "96  C1590550415      5195482.15     19169204.93        0               0  \n",
       "97  C1225616405        40255.00            0.00        0               0  \n",
       "98  M1651262695            0.00            0.00        0               0  \n",
       "99   M494077446            0.00            0.00        0               0  \n",
       "\n",
       "[100 rows x 11 columns]"
      ]
     },
     "execution_count": 4,
     "metadata": {},
     "output_type": "execute_result"
    }
   ],
   "source": [
    "#Displaying top data\n",
    "df.head(100)"
   ]
  },
  {
   "cell_type": "code",
   "execution_count": 5,
   "id": "2c787fc0",
   "metadata": {
    "scrolled": true
   },
   "outputs": [
    {
     "data": {
      "text/html": [
       "<div>\n",
       "<style scoped>\n",
       "    .dataframe tbody tr th:only-of-type {\n",
       "        vertical-align: middle;\n",
       "    }\n",
       "\n",
       "    .dataframe tbody tr th {\n",
       "        vertical-align: top;\n",
       "    }\n",
       "\n",
       "    .dataframe thead th {\n",
       "        text-align: right;\n",
       "    }\n",
       "</style>\n",
       "<table border=\"1\" class=\"dataframe\">\n",
       "  <thead>\n",
       "    <tr style=\"text-align: right;\">\n",
       "      <th></th>\n",
       "      <th>step</th>\n",
       "      <th>type</th>\n",
       "      <th>amount</th>\n",
       "      <th>nameOrig</th>\n",
       "      <th>oldbalanceOrg</th>\n",
       "      <th>newbalanceOrig</th>\n",
       "      <th>nameDest</th>\n",
       "      <th>oldbalanceDest</th>\n",
       "      <th>newbalanceDest</th>\n",
       "      <th>isFraud</th>\n",
       "      <th>isFlaggedFraud</th>\n",
       "    </tr>\n",
       "  </thead>\n",
       "  <tbody>\n",
       "    <tr>\n",
       "      <th>6362520</th>\n",
       "      <td>735</td>\n",
       "      <td>TRANSFER</td>\n",
       "      <td>417103.68</td>\n",
       "      <td>C336307904</td>\n",
       "      <td>417103.68</td>\n",
       "      <td>0.0</td>\n",
       "      <td>C1155915285</td>\n",
       "      <td>0.00</td>\n",
       "      <td>0.00</td>\n",
       "      <td>1</td>\n",
       "      <td>0</td>\n",
       "    </tr>\n",
       "    <tr>\n",
       "      <th>6362521</th>\n",
       "      <td>735</td>\n",
       "      <td>CASH_OUT</td>\n",
       "      <td>417103.68</td>\n",
       "      <td>C1450763584</td>\n",
       "      <td>417103.68</td>\n",
       "      <td>0.0</td>\n",
       "      <td>C1377830519</td>\n",
       "      <td>34232.06</td>\n",
       "      <td>451335.75</td>\n",
       "      <td>1</td>\n",
       "      <td>0</td>\n",
       "    </tr>\n",
       "    <tr>\n",
       "      <th>6362522</th>\n",
       "      <td>735</td>\n",
       "      <td>TRANSFER</td>\n",
       "      <td>92735.71</td>\n",
       "      <td>C1351323617</td>\n",
       "      <td>92735.71</td>\n",
       "      <td>0.0</td>\n",
       "      <td>C413722554</td>\n",
       "      <td>0.00</td>\n",
       "      <td>0.00</td>\n",
       "      <td>1</td>\n",
       "      <td>0</td>\n",
       "    </tr>\n",
       "    <tr>\n",
       "      <th>6362523</th>\n",
       "      <td>735</td>\n",
       "      <td>CASH_OUT</td>\n",
       "      <td>92735.71</td>\n",
       "      <td>C786761311</td>\n",
       "      <td>92735.71</td>\n",
       "      <td>0.0</td>\n",
       "      <td>C570188819</td>\n",
       "      <td>921583.30</td>\n",
       "      <td>1014319.01</td>\n",
       "      <td>1</td>\n",
       "      <td>0</td>\n",
       "    </tr>\n",
       "    <tr>\n",
       "      <th>6362524</th>\n",
       "      <td>735</td>\n",
       "      <td>TRANSFER</td>\n",
       "      <td>123146.28</td>\n",
       "      <td>C1625883009</td>\n",
       "      <td>123146.28</td>\n",
       "      <td>0.0</td>\n",
       "      <td>C918154390</td>\n",
       "      <td>0.00</td>\n",
       "      <td>0.00</td>\n",
       "      <td>1</td>\n",
       "      <td>0</td>\n",
       "    </tr>\n",
       "    <tr>\n",
       "      <th>...</th>\n",
       "      <td>...</td>\n",
       "      <td>...</td>\n",
       "      <td>...</td>\n",
       "      <td>...</td>\n",
       "      <td>...</td>\n",
       "      <td>...</td>\n",
       "      <td>...</td>\n",
       "      <td>...</td>\n",
       "      <td>...</td>\n",
       "      <td>...</td>\n",
       "      <td>...</td>\n",
       "    </tr>\n",
       "    <tr>\n",
       "      <th>6362615</th>\n",
       "      <td>743</td>\n",
       "      <td>CASH_OUT</td>\n",
       "      <td>339682.13</td>\n",
       "      <td>C786484425</td>\n",
       "      <td>339682.13</td>\n",
       "      <td>0.0</td>\n",
       "      <td>C776919290</td>\n",
       "      <td>0.00</td>\n",
       "      <td>339682.13</td>\n",
       "      <td>1</td>\n",
       "      <td>0</td>\n",
       "    </tr>\n",
       "    <tr>\n",
       "      <th>6362616</th>\n",
       "      <td>743</td>\n",
       "      <td>TRANSFER</td>\n",
       "      <td>6311409.28</td>\n",
       "      <td>C1529008245</td>\n",
       "      <td>6311409.28</td>\n",
       "      <td>0.0</td>\n",
       "      <td>C1881841831</td>\n",
       "      <td>0.00</td>\n",
       "      <td>0.00</td>\n",
       "      <td>1</td>\n",
       "      <td>0</td>\n",
       "    </tr>\n",
       "    <tr>\n",
       "      <th>6362617</th>\n",
       "      <td>743</td>\n",
       "      <td>CASH_OUT</td>\n",
       "      <td>6311409.28</td>\n",
       "      <td>C1162922333</td>\n",
       "      <td>6311409.28</td>\n",
       "      <td>0.0</td>\n",
       "      <td>C1365125890</td>\n",
       "      <td>68488.84</td>\n",
       "      <td>6379898.11</td>\n",
       "      <td>1</td>\n",
       "      <td>0</td>\n",
       "    </tr>\n",
       "    <tr>\n",
       "      <th>6362618</th>\n",
       "      <td>743</td>\n",
       "      <td>TRANSFER</td>\n",
       "      <td>850002.52</td>\n",
       "      <td>C1685995037</td>\n",
       "      <td>850002.52</td>\n",
       "      <td>0.0</td>\n",
       "      <td>C2080388513</td>\n",
       "      <td>0.00</td>\n",
       "      <td>0.00</td>\n",
       "      <td>1</td>\n",
       "      <td>0</td>\n",
       "    </tr>\n",
       "    <tr>\n",
       "      <th>6362619</th>\n",
       "      <td>743</td>\n",
       "      <td>CASH_OUT</td>\n",
       "      <td>850002.52</td>\n",
       "      <td>C1280323807</td>\n",
       "      <td>850002.52</td>\n",
       "      <td>0.0</td>\n",
       "      <td>C873221189</td>\n",
       "      <td>6510099.11</td>\n",
       "      <td>7360101.63</td>\n",
       "      <td>1</td>\n",
       "      <td>0</td>\n",
       "    </tr>\n",
       "  </tbody>\n",
       "</table>\n",
       "<p>100 rows × 11 columns</p>\n",
       "</div>"
      ],
      "text/plain": [
       "         step      type      amount     nameOrig  oldbalanceOrg  \\\n",
       "6362520   735  TRANSFER   417103.68   C336307904      417103.68   \n",
       "6362521   735  CASH_OUT   417103.68  C1450763584      417103.68   \n",
       "6362522   735  TRANSFER    92735.71  C1351323617       92735.71   \n",
       "6362523   735  CASH_OUT    92735.71   C786761311       92735.71   \n",
       "6362524   735  TRANSFER   123146.28  C1625883009      123146.28   \n",
       "...       ...       ...         ...          ...            ...   \n",
       "6362615   743  CASH_OUT   339682.13   C786484425      339682.13   \n",
       "6362616   743  TRANSFER  6311409.28  C1529008245     6311409.28   \n",
       "6362617   743  CASH_OUT  6311409.28  C1162922333     6311409.28   \n",
       "6362618   743  TRANSFER   850002.52  C1685995037      850002.52   \n",
       "6362619   743  CASH_OUT   850002.52  C1280323807      850002.52   \n",
       "\n",
       "         newbalanceOrig     nameDest  oldbalanceDest  newbalanceDest  isFraud  \\\n",
       "6362520             0.0  C1155915285            0.00            0.00        1   \n",
       "6362521             0.0  C1377830519        34232.06       451335.75        1   \n",
       "6362522             0.0   C413722554            0.00            0.00        1   \n",
       "6362523             0.0   C570188819       921583.30      1014319.01        1   \n",
       "6362524             0.0   C918154390            0.00            0.00        1   \n",
       "...                 ...          ...             ...             ...      ...   \n",
       "6362615             0.0   C776919290            0.00       339682.13        1   \n",
       "6362616             0.0  C1881841831            0.00            0.00        1   \n",
       "6362617             0.0  C1365125890        68488.84      6379898.11        1   \n",
       "6362618             0.0  C2080388513            0.00            0.00        1   \n",
       "6362619             0.0   C873221189      6510099.11      7360101.63        1   \n",
       "\n",
       "         isFlaggedFraud  \n",
       "6362520               0  \n",
       "6362521               0  \n",
       "6362522               0  \n",
       "6362523               0  \n",
       "6362524               0  \n",
       "...                 ...  \n",
       "6362615               0  \n",
       "6362616               0  \n",
       "6362617               0  \n",
       "6362618               0  \n",
       "6362619               0  \n",
       "\n",
       "[100 rows x 11 columns]"
      ]
     },
     "execution_count": 5,
     "metadata": {},
     "output_type": "execute_result"
    }
   ],
   "source": [
    "#Displaying tail data\n",
    "df.tail(100)"
   ]
  },
  {
   "cell_type": "code",
   "execution_count": 6,
   "id": "32e900c8",
   "metadata": {},
   "outputs": [
    {
     "data": {
      "text/plain": [
       "step              0\n",
       "type              0\n",
       "amount            0\n",
       "nameOrig          0\n",
       "oldbalanceOrg     0\n",
       "newbalanceOrig    0\n",
       "nameDest          0\n",
       "oldbalanceDest    0\n",
       "newbalanceDest    0\n",
       "isFraud           0\n",
       "isFlaggedFraud    0\n",
       "dtype: int64"
      ]
     },
     "execution_count": 6,
     "metadata": {},
     "output_type": "execute_result"
    }
   ],
   "source": [
    "#to count number of missing datasets\n",
    "df.isnull().sum()"
   ]
  },
  {
   "cell_type": "code",
   "execution_count": 7,
   "id": "f9389a17",
   "metadata": {},
   "outputs": [
    {
     "data": {
      "text/plain": [
       "False"
      ]
     },
     "execution_count": 7,
     "metadata": {},
     "output_type": "execute_result"
    }
   ],
   "source": [
    "# Check for null values and If missing data found set them null.\n",
    "df.isnull().values.any()"
   ]
  },
  {
   "cell_type": "code",
   "execution_count": 8,
   "id": "c0364012",
   "metadata": {
    "scrolled": false
   },
   "outputs": [
    {
     "name": "stdout",
     "output_type": "stream",
     "text": [
      "Number of Legit transactions:  6354407\n",
      "Number of Fraud transactions:  8213\n",
      "Percentage of Legit transactions: 99.8709 %\n",
      "Percentage of Fraud transactions: 0.1291 %\n"
     ]
    }
   ],
   "source": [
    "legit = len(df[df.isFraud == 0])\n",
    "fraud = len(df[df.isFraud == 1])\n",
    "legit_percent = (legit / (fraud + legit)) * 100\n",
    "fraud_percent = (fraud / (fraud + legit)) * 100\n",
    "\n",
    "print(\"Number of Legit transactions: \", legit)\n",
    "print(\"Number of Fraud transactions: \", fraud)\n",
    "print(\"Percentage of Legit transactions: {:.4f} %\".format(legit_percent))\n",
    "print(\"Percentage of Fraud transactions: {:.4f} %\".format(fraud_percent))\n",
    "\n"
   ]
  },
  {
   "cell_type": "markdown",
   "id": "c7251a98",
   "metadata": {},
   "source": [
    "These results prove that this is a highly unbalanced data as Percentage of Legit transactions= 99.87 % and Percentage of Fraud transactions= 0.13 %. \n",
    "\n",
    "SO LR AND RANDOM FORESTS ARE GOOD METHODS FOR IMBALANCED DATA."
   ]
  },
  {
   "cell_type": "markdown",
   "id": "ca8d504d",
   "metadata": {},
   "source": [
    "# Data Visualization"
   ]
  },
  {
   "cell_type": "code",
   "execution_count": 10,
   "id": "813755c9",
   "metadata": {},
   "outputs": [
    {
     "data": {
      "text/html": [
       "<div>\n",
       "<style scoped>\n",
       "    .dataframe tbody tr th:only-of-type {\n",
       "        vertical-align: middle;\n",
       "    }\n",
       "\n",
       "    .dataframe tbody tr th {\n",
       "        vertical-align: top;\n",
       "    }\n",
       "\n",
       "    .dataframe thead th {\n",
       "        text-align: right;\n",
       "    }\n",
       "</style>\n",
       "<table border=\"1\" class=\"dataframe\">\n",
       "  <thead>\n",
       "    <tr style=\"text-align: right;\">\n",
       "      <th></th>\n",
       "      <th>step</th>\n",
       "      <th>type</th>\n",
       "      <th>amount</th>\n",
       "      <th>nameOrig</th>\n",
       "      <th>oldbalanceOrg</th>\n",
       "      <th>newbalanceOrig</th>\n",
       "      <th>nameDest</th>\n",
       "      <th>oldbalanceDest</th>\n",
       "      <th>newbalanceDest</th>\n",
       "      <th>isFraud</th>\n",
       "      <th>isFlaggedFraud</th>\n",
       "    </tr>\n",
       "  </thead>\n",
       "  <tbody>\n",
       "    <tr>\n",
       "      <th>0</th>\n",
       "      <td>1</td>\n",
       "      <td>PAYMENT</td>\n",
       "      <td>9839.64</td>\n",
       "      <td>C1231006815</td>\n",
       "      <td>170136.0</td>\n",
       "      <td>160296.36</td>\n",
       "      <td>M1979787155</td>\n",
       "      <td>0.0</td>\n",
       "      <td>0.0</td>\n",
       "      <td>0</td>\n",
       "      <td>0</td>\n",
       "    </tr>\n",
       "    <tr>\n",
       "      <th>1</th>\n",
       "      <td>1</td>\n",
       "      <td>PAYMENT</td>\n",
       "      <td>1864.28</td>\n",
       "      <td>C1666544295</td>\n",
       "      <td>21249.0</td>\n",
       "      <td>19384.72</td>\n",
       "      <td>M2044282225</td>\n",
       "      <td>0.0</td>\n",
       "      <td>0.0</td>\n",
       "      <td>0</td>\n",
       "      <td>0</td>\n",
       "    </tr>\n",
       "    <tr>\n",
       "      <th>2</th>\n",
       "      <td>1</td>\n",
       "      <td>TRANSFER</td>\n",
       "      <td>181.00</td>\n",
       "      <td>C1305486145</td>\n",
       "      <td>181.0</td>\n",
       "      <td>0.00</td>\n",
       "      <td>C553264065</td>\n",
       "      <td>0.0</td>\n",
       "      <td>0.0</td>\n",
       "      <td>1</td>\n",
       "      <td>0</td>\n",
       "    </tr>\n",
       "    <tr>\n",
       "      <th>3</th>\n",
       "      <td>1</td>\n",
       "      <td>CASH_OUT</td>\n",
       "      <td>181.00</td>\n",
       "      <td>C840083671</td>\n",
       "      <td>181.0</td>\n",
       "      <td>0.00</td>\n",
       "      <td>C38997010</td>\n",
       "      <td>21182.0</td>\n",
       "      <td>0.0</td>\n",
       "      <td>1</td>\n",
       "      <td>0</td>\n",
       "    </tr>\n",
       "    <tr>\n",
       "      <th>4</th>\n",
       "      <td>1</td>\n",
       "      <td>PAYMENT</td>\n",
       "      <td>11668.14</td>\n",
       "      <td>C2048537720</td>\n",
       "      <td>41554.0</td>\n",
       "      <td>29885.86</td>\n",
       "      <td>M1230701703</td>\n",
       "      <td>0.0</td>\n",
       "      <td>0.0</td>\n",
       "      <td>0</td>\n",
       "      <td>0</td>\n",
       "    </tr>\n",
       "  </tbody>\n",
       "</table>\n",
       "</div>"
      ],
      "text/plain": [
       "   step      type    amount     nameOrig  oldbalanceOrg  newbalanceOrig  \\\n",
       "0     1   PAYMENT   9839.64  C1231006815       170136.0       160296.36   \n",
       "1     1   PAYMENT   1864.28  C1666544295        21249.0        19384.72   \n",
       "2     1  TRANSFER    181.00  C1305486145          181.0            0.00   \n",
       "3     1  CASH_OUT    181.00   C840083671          181.0            0.00   \n",
       "4     1   PAYMENT  11668.14  C2048537720        41554.0        29885.86   \n",
       "\n",
       "      nameDest  oldbalanceDest  newbalanceDest  isFraud  isFlaggedFraud  \n",
       "0  M1979787155             0.0             0.0        0               0  \n",
       "1  M2044282225             0.0             0.0        0               0  \n",
       "2   C553264065             0.0             0.0        1               0  \n",
       "3    C38997010         21182.0             0.0        1               0  \n",
       "4  M1230701703             0.0             0.0        0               0  "
      ]
     },
     "execution_count": 10,
     "metadata": {},
     "output_type": "execute_result"
    }
   ],
   "source": [
    "#creating a copy of original dataset to train and test models\n",
    "\n",
    "new_df=df.copy()\n",
    "new_df.head()"
   ]
  },
  {
   "cell_type": "markdown",
   "id": "c222b204",
   "metadata": {},
   "source": [
    "# Label Encoding"
   ]
  },
  {
   "cell_type": "markdown",
   "id": "28cbb956",
   "metadata": {},
   "source": [
    " Label encoding is done to convert dtype object into int type for easy computation."
   ]
  },
  {
   "cell_type": "code",
   "execution_count": 11,
   "id": "1ee26623",
   "metadata": {},
   "outputs": [
    {
     "name": "stdout",
     "output_type": "stream",
     "text": [
      "Index(['type', 'nameOrig', 'nameDest'], dtype='object')\n"
     ]
    }
   ],
   "source": [
    "# Checking how many attributes are dtype: object\n",
    "\n",
    "objList = new_df.select_dtypes(include = \"object\").columns\n",
    "print (objList)"
   ]
  },
  {
   "cell_type": "code",
   "execution_count": 12,
   "id": "1f78b07d",
   "metadata": {},
   "outputs": [
    {
     "name": "stdout",
     "output_type": "stream",
     "text": [
      "<class 'pandas.core.frame.DataFrame'>\n",
      "RangeIndex: 6362620 entries, 0 to 6362619\n",
      "Data columns (total 11 columns):\n",
      " #   Column          Dtype  \n",
      "---  ------          -----  \n",
      " 0   step            int64  \n",
      " 1   type            int32  \n",
      " 2   amount          float64\n",
      " 3   nameOrig        int32  \n",
      " 4   oldbalanceOrg   float64\n",
      " 5   newbalanceOrig  float64\n",
      " 6   nameDest        int32  \n",
      " 7   oldbalanceDest  float64\n",
      " 8   newbalanceDest  float64\n",
      " 9   isFraud         int64  \n",
      " 10  isFlaggedFraud  int64  \n",
      "dtypes: float64(5), int32(3), int64(3)\n",
      "memory usage: 461.2 MB\n",
      "None\n"
     ]
    }
   ],
   "source": [
    "#THERE ARE 3 ATTRIBUTES WITH Object Datatype. THUS WE NEED TO LABEL ENCODE THEM IN ORDER TO CHECK MULTICOLINEARITY.\n",
    "#Label Encoding for object to numeric conversion\n",
    "from sklearn.preprocessing import LabelEncoder\n",
    "le = LabelEncoder()\n",
    "\n",
    "for feat in objList:\n",
    "    new_df[feat] = le.fit_transform(new_df[feat].astype(str))\n",
    "\n",
    "print (new_df.info())"
   ]
  },
  {
   "cell_type": "markdown",
   "id": "056168a3",
   "metadata": {},
   "source": [
    "# MULTICOLINEARITY"
   ]
  },
  {
   "cell_type": "markdown",
   "id": "77ef81ee",
   "metadata": {},
   "source": [
    "Multicollinearity occurs when two or more independent variables are highly correlated with one another in a the model."
   ]
  },
  {
   "cell_type": "code",
   "execution_count": 13,
   "id": "0cf62712",
   "metadata": {},
   "outputs": [
    {
     "data": {
      "text/html": [
       "<div>\n",
       "<style scoped>\n",
       "    .dataframe tbody tr th:only-of-type {\n",
       "        vertical-align: middle;\n",
       "    }\n",
       "\n",
       "    .dataframe tbody tr th {\n",
       "        vertical-align: top;\n",
       "    }\n",
       "\n",
       "    .dataframe thead th {\n",
       "        text-align: right;\n",
       "    }\n",
       "</style>\n",
       "<table border=\"1\" class=\"dataframe\">\n",
       "  <thead>\n",
       "    <tr style=\"text-align: right;\">\n",
       "      <th></th>\n",
       "      <th>variables</th>\n",
       "      <th>VIF</th>\n",
       "    </tr>\n",
       "  </thead>\n",
       "  <tbody>\n",
       "    <tr>\n",
       "      <th>0</th>\n",
       "      <td>step</td>\n",
       "      <td>2.791610</td>\n",
       "    </tr>\n",
       "    <tr>\n",
       "      <th>1</th>\n",
       "      <td>type</td>\n",
       "      <td>4.467405</td>\n",
       "    </tr>\n",
       "    <tr>\n",
       "      <th>2</th>\n",
       "      <td>amount</td>\n",
       "      <td>4.149312</td>\n",
       "    </tr>\n",
       "    <tr>\n",
       "      <th>3</th>\n",
       "      <td>nameOrig</td>\n",
       "      <td>2.764234</td>\n",
       "    </tr>\n",
       "    <tr>\n",
       "      <th>4</th>\n",
       "      <td>oldbalanceOrg</td>\n",
       "      <td>576.803777</td>\n",
       "    </tr>\n",
       "    <tr>\n",
       "      <th>5</th>\n",
       "      <td>newbalanceOrig</td>\n",
       "      <td>582.709128</td>\n",
       "    </tr>\n",
       "    <tr>\n",
       "      <th>6</th>\n",
       "      <td>nameDest</td>\n",
       "      <td>3.300975</td>\n",
       "    </tr>\n",
       "    <tr>\n",
       "      <th>7</th>\n",
       "      <td>oldbalanceDest</td>\n",
       "      <td>73.349937</td>\n",
       "    </tr>\n",
       "    <tr>\n",
       "      <th>8</th>\n",
       "      <td>newbalanceDest</td>\n",
       "      <td>85.005614</td>\n",
       "    </tr>\n",
       "    <tr>\n",
       "      <th>9</th>\n",
       "      <td>isFraud</td>\n",
       "      <td>1.195305</td>\n",
       "    </tr>\n",
       "    <tr>\n",
       "      <th>10</th>\n",
       "      <td>isFlaggedFraud</td>\n",
       "      <td>1.002587</td>\n",
       "    </tr>\n",
       "  </tbody>\n",
       "</table>\n",
       "</div>"
      ],
      "text/plain": [
       "         variables         VIF\n",
       "0             step    2.791610\n",
       "1             type    4.467405\n",
       "2           amount    4.149312\n",
       "3         nameOrig    2.764234\n",
       "4    oldbalanceOrg  576.803777\n",
       "5   newbalanceOrig  582.709128\n",
       "6         nameDest    3.300975\n",
       "7   oldbalanceDest   73.349937\n",
       "8   newbalanceDest   85.005614\n",
       "9          isFraud    1.195305\n",
       "10  isFlaggedFraud    1.002587"
      ]
     },
     "execution_count": 13,
     "metadata": {},
     "output_type": "execute_result"
    }
   ],
   "source": [
    "# Import library for VIF (VARIANCE INFLATION FACTOR)\n",
    "\n",
    "from statsmodels.stats.outliers_influence import variance_inflation_factor\n",
    "\n",
    "def calc_vif(df):\n",
    "\n",
    "    # Calculating VIF\n",
    "    vif = pd.DataFrame()\n",
    "    vif[\"variables\"] = df.columns\n",
    "    vif[\"VIF\"] = [variance_inflation_factor(df.values, i) for i in range(df.shape[1])]\n",
    "\n",
    "    return(vif)\n",
    "\n",
    "calc_vif(new_df)"
   ]
  },
  {
   "cell_type": "markdown",
   "id": "499e9caf",
   "metadata": {},
   "source": [
    "We can see that oldbalanceOrg and newbalanceOrig have too high VIF thus they are highly correlated. Similarly oldbalanceDest and newbalanceDest are also the same.\n",
    "\n",
    "Also nameDest is connected to nameOrig.\n",
    "\n",
    "Thus combine these pairs of collinear attributes and drop the individual ones."
   ]
  },
  {
   "cell_type": "code",
   "execution_count": 14,
   "id": "b47130c6",
   "metadata": {},
   "outputs": [
    {
     "data": {
      "text/html": [
       "<div>\n",
       "<style scoped>\n",
       "    .dataframe tbody tr th:only-of-type {\n",
       "        vertical-align: middle;\n",
       "    }\n",
       "\n",
       "    .dataframe tbody tr th {\n",
       "        vertical-align: top;\n",
       "    }\n",
       "\n",
       "    .dataframe thead th {\n",
       "        text-align: right;\n",
       "    }\n",
       "</style>\n",
       "<table border=\"1\" class=\"dataframe\">\n",
       "  <thead>\n",
       "    <tr style=\"text-align: right;\">\n",
       "      <th></th>\n",
       "      <th>variables</th>\n",
       "      <th>VIF</th>\n",
       "    </tr>\n",
       "  </thead>\n",
       "  <tbody>\n",
       "    <tr>\n",
       "      <th>0</th>\n",
       "      <td>type</td>\n",
       "      <td>2.687803</td>\n",
       "    </tr>\n",
       "    <tr>\n",
       "      <th>1</th>\n",
       "      <td>amount</td>\n",
       "      <td>3.818902</td>\n",
       "    </tr>\n",
       "    <tr>\n",
       "      <th>2</th>\n",
       "      <td>isFraud</td>\n",
       "      <td>1.184479</td>\n",
       "    </tr>\n",
       "    <tr>\n",
       "      <th>3</th>\n",
       "      <td>isFlaggedFraud</td>\n",
       "      <td>1.002546</td>\n",
       "    </tr>\n",
       "    <tr>\n",
       "      <th>4</th>\n",
       "      <td>Actual_amount_orig</td>\n",
       "      <td>1.307910</td>\n",
       "    </tr>\n",
       "    <tr>\n",
       "      <th>5</th>\n",
       "      <td>Actual_amount_dest</td>\n",
       "      <td>3.754335</td>\n",
       "    </tr>\n",
       "    <tr>\n",
       "      <th>6</th>\n",
       "      <td>TransactionPath</td>\n",
       "      <td>2.677167</td>\n",
       "    </tr>\n",
       "  </tbody>\n",
       "</table>\n",
       "</div>"
      ],
      "text/plain": [
       "            variables       VIF\n",
       "0                type  2.687803\n",
       "1              amount  3.818902\n",
       "2             isFraud  1.184479\n",
       "3      isFlaggedFraud  1.002546\n",
       "4  Actual_amount_orig  1.307910\n",
       "5  Actual_amount_dest  3.754335\n",
       "6     TransactionPath  2.677167"
      ]
     },
     "execution_count": 14,
     "metadata": {},
     "output_type": "execute_result"
    }
   ],
   "source": [
    "new_df['Actual_amount_orig'] = new_df.apply(lambda x: x['oldbalanceOrg'] - x['newbalanceOrig'],axis=1)\n",
    "new_df['Actual_amount_dest'] = new_df.apply(lambda x: x['oldbalanceDest'] - x['newbalanceDest'],axis=1)\n",
    "new_df['TransactionPath'] = new_df.apply(lambda x: x['nameOrig'] + x['nameDest'],axis=1)\n",
    "\n",
    "#Dropping columns\n",
    "new_df = new_df.drop(['oldbalanceOrg','newbalanceOrig','oldbalanceDest','newbalanceDest','step','nameOrig','nameDest'],axis=1)\n",
    "\n",
    "calc_vif(new_df)"
   ]
  },
  {
   "cell_type": "code",
   "execution_count": 15,
   "id": "eadc2115",
   "metadata": {},
   "outputs": [
    {
     "data": {
      "text/plain": [
       "<AxesSubplot:>"
      ]
     },
     "execution_count": 15,
     "metadata": {},
     "output_type": "execute_result"
    },
    {
     "data": {
      "image/png": "[encoded data removed]",
      "text/plain": [
       "<Figure size 720x432 with 2 Axes>"
      ]
     },
     "metadata": {
      "needs_background": "light"
     },
     "output_type": "display_data"
    }
   ],
   "source": [
    "corr=new_df.corr()\n",
    "\n",
    "plt.figure(figsize=(10,6))\n",
    "sns.heatmap(corr,annot=True)"
   ]
  },
  {
   "cell_type": "markdown",
   "id": "cbc26f3c",
   "metadata": {},
   "source": [
    "\n",
    "How did you select variables to be included in the model?\n",
    "\n",
    "\n",
    "Using the VIF values and correlation heatmap as shown above."
   ]
  },
  {
   "cell_type": "markdown",
   "id": "82d1cc19",
   "metadata": {},
   "source": [
    "# MODEL BUILDING "
   ]
  },
  {
   "cell_type": "code",
   "execution_count": 45,
   "id": "b6f57e29",
   "metadata": {},
   "outputs": [],
   "source": [
    "#Importing the required libraries\n",
    "from sklearn.preprocessing import StandardScaler\n",
    "from sklearn.model_selection import train_test_split\n",
    "from sklearn.ensemble import RandomForestClassifier\n",
    "from sklearn.tree import DecisionTreeClassifier\n",
    "import itertools\n",
    "from collections import Counter\n",
    "import sklearn.metrics as metrics\n",
    "from sklearn.metrics import classification_report, confusion_matrix, ConfusionMatrixDisplay"
   ]
  },
  {
   "cell_type": "code",
   "execution_count": null,
   "id": "059d7cfd",
   "metadata": {},
   "outputs": [],
   "source": [
    "# NORMALIZING(SCALING) AMOUNT\n",
    "# In Machine Learning, StandardScaler is used to resize the distribution of values so that ,\n",
    "# the mean of the observed values is 0 and the standard deviation is 1.\n",
    "# I did not normalize the complete dataset because it may lead to decrease in accuracy of model.\n",
    "\n",
    "scaler = StandardScaler()\n",
    "new_df[\"NormalizedAmount\"] = scaler.fit_transform(new_df[\"amount\"].values.reshape(-1, 1))\n",
    "new_df.drop([\"amount\"], inplace= True, axis= 1)\n",
    "\n",
    "Y = new_df[\"isFraud\"]\n",
    "X = new_df.drop([\"isFraud\"], axis= 1)"
   ]
  },
  {
   "cell_type": "markdown",
   "id": "bed54575",
   "metadata": {},
   "source": [
    "# TRAIN-TEST SPLIT "
   ]
  },
  {
   "cell_type": "code",
   "execution_count": 54,
   "id": "57b4c84e",
   "metadata": {},
   "outputs": [
    {
     "name": "stdout",
     "output_type": "stream",
     "text": [
      "Shape of X_train:  (4453834, 6)\n",
      "Shape of X_test:  (1908786, 6)\n"
     ]
    }
   ],
   "source": [
    "# Split the data\n",
    "(X_train, X_test, Y_train, Y_test) = train_test_split(X, Y, test_size= 0.3, random_state= 42) #30percent of testing data.\n",
    "\n",
    "print(\"Shape of X_train: \", X_train.shape)\n",
    "print(\"Shape of X_test: \", X_test.shape)"
   ]
  },
  {
   "cell_type": "markdown",
   "id": "856c2032",
   "metadata": {},
   "source": [
    "# LogisticRegression"
   ]
  },
  {
   "cell_type": "code",
   "execution_count": 62,
   "id": "4465d42e",
   "metadata": {},
   "outputs": [
    {
     "name": "stdout",
     "output_type": "stream",
     "text": [
      "Accuracy score of the testing data in Logistic Regression is  99.8032781045125\n"
     ]
    }
   ],
   "source": [
    "from sklearn.linear_model import LogisticRegression\n",
    "model = LogisticRegression()\n",
    "model.fit(X_train,Y_train)\n",
    "\n",
    "#to calculate accuracy score of test data\n",
    "X_test_prediction = model.predict(X_test) #actaul prediction by our LogisticReg model\n",
    "testing_data_accuracy = accuracy_score(X_test_prediction,Y_test)\n",
    "print(\"Accuracy score of the testing data in Logistic Regression is \",testing_data_accuracy * 100)"
   ]
  },
  {
   "cell_type": "markdown",
   "id": "15dc415a",
   "metadata": {},
   "source": [
    "# Random Forest"
   ]
  },
  {
   "cell_type": "markdown",
   "id": "ed555b75",
   "metadata": {},
   "source": [
    "Random Forest is a classifier that contains a number of decision trees on various subsets of the given dataset and takes the average to improve the predictive accuracy of that dataset"
   ]
  },
  {
   "cell_type": "code",
   "execution_count": null,
   "id": "9d575849",
   "metadata": {},
   "outputs": [],
   "source": [
    "random_forest = RandomForestClassifier(n_estimators= 100)\n",
    "random_forest.fit(X_train, Y_train)\n",
    "\n",
    "Y_pred_rf = random_forest.predict(X_test)\n",
    "random_forest_score = random_forest.score(X_test, Y_test) \n",
    "print(\"Accuracy score of the testing data in Random Forest is  \",random_forest_score * 100)"
   ]
  },
  {
   "cell_type": "markdown",
   "id": "a5d8cd4a",
   "metadata": {},
   "source": [
    "Scores of our classifiers"
   ]
  },
  {
   "cell_type": "code",
   "execution_count": 67,
   "id": "41961c34",
   "metadata": {},
   "outputs": [
    {
     "name": "stdout",
     "output_type": "stream",
     "text": [
      "Logistic Regression Score:  99.8032781045125\n",
      "Random Forest Score:  99.95871721607347\n"
     ]
    }
   ],
   "source": [
    "print(\"Logistic Regression Score: \", testing_data_accuracy *100)\n",
    "print(\"Random Forest Score: \", random_forest_score )"
   ]
  },
  {
   "cell_type": "code",
   "execution_count": 69,
   "id": "f5087af7",
   "metadata": {},
   "outputs": [
    {
     "name": "stdout",
     "output_type": "stream",
     "text": [
      "TP,FP,TN,FN - logistic regression \n",
      "True Positives: 921\n",
      "False Positives: 2241\n",
      "True Negatives: 1904110\n",
      "False Negatives: 1514\n",
      "----------------------------------------------------------------------------------------\n",
      "TP,FP,TN,FN - Random Forest\n",
      "True Positives: 1712\n",
      "False Positives: 70\n",
      "True Negatives: 1906281\n",
      "False Negatives: 723\n"
     ]
    }
   ],
   "source": [
    "# key terms of Confusion Matrix - logistic regression\n",
    "\n",
    "print(\"TP,FP,TN,FN - logistic regression \")\n",
    "tn, fp, fn, tp = confusion_matrix(Y_test, X_test_prediction).ravel()\n",
    "print(f'True Positives: {tp}')\n",
    "print(f'False Positives: {fp}')\n",
    "print(f'True Negatives: {tn}')\n",
    "print(f'False Negatives: {fn}')\n",
    "\n",
    "print(\"----------------------------------------------------------------------------------------\")\n",
    "\n",
    "# key terms of Confusion Matrix - Random forest\n",
    "\n",
    "print(\"TP,FP,TN,FN - Random Forest\")\n",
    "tn, fp, fn, tp = confusion_matrix(Y_test, Y_pred_rf).ravel()\n",
    "print(f'True Positives: {tp}')\n",
    "print(f'False Positives: {fp}')\n",
    "print(f'True Negatives: {tn}')\n",
    "print(f'False Negatives: {fn}')"
   ]
  },
  {
   "cell_type": "markdown",
   "id": "b72424e8",
   "metadata": {},
   "source": [
    "Random forest looks good because FP & FN are compartivily lesser meaning model has predicted well."
   ]
  },
  {
   "cell_type": "code",
   "execution_count": 71,
   "id": "bbd89899",
   "metadata": {},
   "outputs": [
    {
     "name": "stdout",
     "output_type": "stream",
     "text": [
      "Classification Report - logistic regression\n",
      "              precision    recall  f1-score   support\n",
      "\n",
      "           0       1.00      1.00      1.00   1906351\n",
      "           1       0.29      0.38      0.33      2435\n",
      "\n",
      "    accuracy                           1.00   1908786\n",
      "   macro avg       0.65      0.69      0.66   1908786\n",
      "weighted avg       1.00      1.00      1.00   1908786\n",
      "\n",
      "----------------------------------------------------------------------------------------\n",
      "Classification Report - Random Forest\n",
      "              precision    recall  f1-score   support\n",
      "\n",
      "           0       1.00      1.00      1.00   1906351\n",
      "           1       0.96      0.70      0.81      2435\n",
      "\n",
      "    accuracy                           1.00   1908786\n",
      "   macro avg       0.98      0.85      0.91   1908786\n",
      "weighted avg       1.00      1.00      1.00   1908786\n",
      "\n"
     ]
    }
   ],
   "source": [
    "# classification report - LR\n",
    "\n",
    "classification_report_dt = classification_report(Y_test, X_test_prediction)\n",
    "print(\"Classification Report - logistic regression\")\n",
    "print(classification_report_dt)\n",
    "\n",
    "print(\"----------------------------------------------------------------------------------------\")\n",
    "\n",
    "# classification report - RF\n",
    "\n",
    "classification_report_rf = classification_report(Y_test, Y_pred_rf)\n",
    "print(\"Classification Report - Random Forest\")\n",
    "print(classification_report_rf)"
   ]
  },
  {
   "cell_type": "markdown",
   "id": "4054a2ee",
   "metadata": {},
   "source": [
    "With Such a good precision and hence F1-Score, Random Forest comes out to be better as expected."
   ]
  },
  {
   "cell_type": "markdown",
   "id": "280108f9",
   "metadata": {},
   "source": [
    "# Final Conclusions"
   ]
  },
  {
   "cell_type": "markdown",
   "id": "88a27706",
   "metadata": {},
   "source": [
    "We can see that between Logistic regression and  Random Forest the precision of RF is more.\n",
    "In a fraud detection model, Precision is highly important so we can select that model for our convinience.\n",
    "\n",
    "\n",
    "What are the key factors that predict fraudulent customer?\n",
    "    \n",
    "    By checking the source of request \n",
    "    Check if the name of organisation asking for money is legit or not ?\n",
    "    Transaction history of vendors.\n",
    "\n",
    "\n",
    "What kind of prevention should be adopted while company update its infrastructure?\n",
    "    \n",
    "    Using secured websites, VPN, verified apps.\n",
    "    Keeping mobile and laptop security updated.\n",
    "    By not responding to unsolicited calls/SMS.\n",
    "\n",
    "\n",
    "Assuming these actions have been implemented, how would you determine if they work?\n",
    "    \n",
    "    E-statements from respective banks.\n",
    "    Customers account activity."
   ]
  }
 ],
 "metadata": {
  "kernelspec": {
   "display_name": "Python 3 (ipykernel)",
   "language": "python",
   "name": "python3"
  },
  "language_info": {
   "codemirror_mode": {
    "name": "ipython",
    "version": 3
   },
   "file_extension": ".py",
   "mimetype": "text/x-python",
   "name": "python",
   "nbconvert_exporter": "python",
   "pygments_lexer": "ipython3",
   "version": "3.9.12"
  }
 },
 "nbformat": 4,
 "nbformat_minor": 5
}
